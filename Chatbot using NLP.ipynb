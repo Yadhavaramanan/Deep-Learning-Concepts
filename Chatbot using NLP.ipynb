{
 "cells": [
  {
   "cell_type": "code",
   "execution_count": 3,
   "id": "20cbf1cb-ad6c-4695-8fc3-07614302c090",
   "metadata": {},
   "outputs": [
    {
     "name": "stdout",
     "output_type": "stream",
     "text": [
      "Hi! I am a chatbot  create to help Student\n"
     ]
    },
    {
     "name": "stdin",
     "output_type": "stream",
     "text": [
      "> hi\n"
     ]
    },
    {
     "name": "stdout",
     "output_type": "stream",
     "text": [
      "Hello\n"
     ]
    },
    {
     "name": "stdin",
     "output_type": "stream",
     "text": [
      "> do you know my name\n"
     ]
    },
    {
     "name": "stdout",
     "output_type": "stream",
     "text": [
      "Yes, i know your name is Yadhavaramanan C\n"
     ]
    },
    {
     "name": "stdin",
     "output_type": "stream",
     "text": [
      "> do you know fdl mams name\n"
     ]
    },
    {
     "name": "stdout",
     "output_type": "stream",
     "text": [
      "Yes, i know mam name is Jeyasree A\n"
     ]
    },
    {
     "name": "stdin",
     "output_type": "stream",
     "text": [
      "> quit\n"
     ]
    },
    {
     "name": "stdout",
     "output_type": "stream",
     "text": [
      "It was nice talking to you. See you soon :)\n"
     ]
    }
   ],
   "source": [
    "import nltk\n",
    "from nltk.chat.util import Chat, reflections\n",
    "reflections={\n",
    "    \"am\": \"are\",\n",
    "    \"was\": \"were\",\n",
    "    \"i'd like\": \"you would like\",\n",
    "    \"i'm feeling\": \"you are feeling\",\n",
    "    \"are\": \"am\",\n",
    "    \"you're\": \"I'm\",\n",
    "    \"you'd\": \"I would\",\n",
    "    \"i'll be\": \"you will be\",\n",
    "    \"we\": \"you\",\n",
    "    \"us\": \"you\",\n",
    "    \"ours\": \"yours\",\n",
    "    \"mine\": \"yours\",\n",
    "    \"you're doing\": \"I am doing\"\n",
    "}\n",
    "pairs = [\n",
    "    [\n",
    "        r\"hi|hey|hello\",\n",
    "        [\"Hello\",]\n",
    "\n",
    "    ],\n",
    "     [\n",
    "        r\"what is your name ?|name pls\",\n",
    "        [\"I am chatbot\",]\n",
    "    ],\n",
    "    [\n",
    "        r\"my name is (.*)\",\n",
    "        [\"Hello %1, How can I help you?\",]\n",
    "    ],\n",
    "\n",
    "\n",
    "    [\n",
    "        r\"how are you ?\",\n",
    "        [\"I'm doing goodnHow about You ?\",]\n",
    "    ],\n",
    "    [\n",
    "        r\"List Out the Department?\",\n",
    "        [\"1.B.Tech - ARTIFICIAL INTELLIGENCE AND DATA SCIENCE \"\n",
    "         \"2.B.Tech - ARTIFICIAL INTELLIGENCE AND MACHINE LEARNING \"\n",
    "         \"3.B.E – CIVIL ENGINEERING \"\n",
    "         \"4.B.Tech - COMPUTER SCIENCE AND BUSINESS SYSTEMS \"\n",
    "         \"5.B.E – COMPUTER SCIENCE AND ENGINEERING \"\n",
    "         \"6.B.E - ELECTRICAL AND ELECTRONICS ENGINEERING \"\n",
    "         \"7.B.E – ELECTRONICS AND COMMUNICATION ENGINEERING \"\n",
    "         \"8.B.Tech – INFORMATION TECHNOLOGY \"\n",
    "         \"9.B.E - MECHANICAL ENGINEERING  \",]\n",
    "    ],\n",
    "    [\n",
    "        r\"Do you know fdl mams name ?\",\n",
    "        [\"Yes, i know mam name is Jeyasree A\",]\n",
    "    ],\n",
    "    [\n",
    "        r\"Do you know my name ?\",\n",
    "        [\"Yes, i know your name is Yadhavaramanan C\",]\n",
    "    ],\n",
    "    [\n",
    "        r\"What are career can I choose after the B.Tech - ARTIFICIAL INTELLIGENCE AND DATA SCIENCE|What are career can I choose after the B.Tech AI & DS?\",\n",
    "\n",
    "        [\"Machine Learning Engineer,\"\n",
    "        \"Data Scientist,\"\n",
    "        \"Artificial Intelligence Engineer,\"\n",
    "        \"Data Analyst,\"\n",
    "        \"Machine Learning Architect\",]\n",
    "    ],\n",
    "    [\n",
    "        r\"All UG Course Duration|Course Duration|UG Duration\",\n",
    "        [\"4 years (Regular) / 3 years (Lateral Entry)\",]\n",
    "    ],\n",
    "    [\n",
    "        r\"No. of Seats for ARTIFICIAL INTELLIGENCE AND DATA SCIENCE|Total No. of Seats for AI & DS|Number of Seats?\",\n",
    "        [\"Total - 60 ( NRI Approval Status - Yes , PIO / FN / GULF quota / OCI Approval Status - No)\",]\n",
    "    ],\n",
    "    [\n",
    "        r\"Scope for Higher Studies\",\n",
    "        [\"M.E. / M.Tech. / M.B.A./ M.S\",]\n",
    "    ],\n",
    "\n",
    "    [\n",
    "        r\"quit\",\n",
    "        [\"It was nice talking to you. See you soon :)\",]\n",
    "    ],\n",
    "    [\n",
    "        r\"can you help me with (.*)\",\n",
    "        [\"I'm here to help with %1! Could you specify what you need?\", \"Sure, I'd be happy to assist with %1.\"]\n",
    "    ],\n",
    "    [\n",
    "        r\"(.*) admission process\",\n",
    "        [\"The admission process typically involves submitting an application, appearing for any entrance exams, and going through an interview or counseling. Would you like more details?\"]\n",
    "    ],\n",
    "    [\n",
    "        r\"(.*) scholarship (.*)\",\n",
    "        [\"Our institution offers scholarships based on merit, financial need, and sports achievements. You can visit our scholarship office or website for specific criteria.\"]\n",
    "    ],\n",
    "    [\n",
    "        r\"(.*) internship opportunities\",\n",
    "        [\"There are various internship opportunities available both on campus and with our partner companies. Are you looking for internships in a specific field?\"]\n",
    "    ],\n",
    "    [\n",
    "        r\"thank you|thanks\",\n",
    "        [\"You're welcome!\", \"No problem at all!\", \"Happy to help!\"]\n",
    "    ],\n",
    "    [\n",
    "        r\"(.*) placement statistics\",\n",
    "        [\"Our placement cell has a high success rate, with over 85% of students placed in reputable companies every year. Would you like information on a specific department?\"]\n",
    "    ],\n",
    "    [\n",
    "        r\"what is the eligibility for (.*)\",\n",
    "        [\"Eligibility for %1 generally requires a high school diploma with science background for undergrad courses. For specific details, feel free to ask!\"]\n",
    "    ],\n",
    "    [\n",
    "        r\"do you offer (.*) courses\",\n",
    "        [\"Yes, we offer a variety of %1 courses. You can visit our website or talk to our admissions team for more details.\"]\n",
    "    ],\n",
    "    [\n",
    "        r\"(.*) hostel facilities\",\n",
    "        [\"We provide comfortable hostel facilities with options for single, double, and triple occupancy rooms. There are separate hostels for boys and girls, with round-the-clock security.\"]\n",
    "    ],\n",
    "    [\n",
    "        r\"(.*) clubs or extracurriculars\",\n",
    "        [\"We have numerous clubs and societies for arts, sports, technology, and cultural activities. Would you like to know about a specific club?\"]\n",
    "    ],\n",
    "    [\n",
    "        r\"(.*) faculty details\",\n",
    "        [\"Our faculty members are highly qualified and experienced, with several holding PhDs and industry experience. Would you like to know more about a specific department?\"]\n",
    "    ],\n",
    "    [\n",
    "        r\"(.*) library (.*)\",\n",
    "        [\"Our library is well-equipped with a vast collection of books, journals, and digital resources. It’s a great place for study and research.\"]\n",
    "    ],\n",
    "    [\n",
    "        r\"(.*) sports facilities\",\n",
    "        [\"Our campus has facilities for sports like basketball, cricket, football, badminton, and more. There are also regular tournaments you can participate in.\"]\n",
    "    ],\n",
    "    [\n",
    "        r\"(.*) exams schedule\",\n",
    "        [\"The exam schedule is typically released a month before exams. You can check the academic calendar for more information.\"]\n",
    "    ],\n",
    "    [\n",
    "        r\"bye|goodbye|see you\",\n",
    "        [\"Goodbye! It was nice talking to you. Feel free to return if you have more questions.\", \"Take care! See you next time.\"]\n",
    "    ],\n",
    "]\n",
    "def chat():\n",
    "    print(\"Hi! I am a chatbot  create to help Student\")\n",
    "    chat = Chat(pairs, reflections)\n",
    "    chat.converse()\n",
    "#initiate the conversation\n",
    "if __name__ == \"__main__\":\n",
    "    chat()"
   ]
  },
  {
   "cell_type": "code",
   "execution_count": null,
   "id": "5da281c9-1e13-46ba-a7ec-a9f7d7cf85b7",
   "metadata": {},
   "outputs": [],
   "source": []
  }
 ],
 "metadata": {
  "kernelspec": {
   "display_name": "Python 3 (ipykernel)",
   "language": "python",
   "name": "python3"
  },
  "language_info": {
   "codemirror_mode": {
    "name": "ipython",
    "version": 3
   },
   "file_extension": ".py",
   "mimetype": "text/x-python",
   "name": "python",
   "nbconvert_exporter": "python",
   "pygments_lexer": "ipython3",
   "version": "3.12.4"
  }
 },
 "nbformat": 4,
 "nbformat_minor": 5
}
