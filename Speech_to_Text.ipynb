{
 "cells": [
  {
   "cell_type": "code",
   "execution_count": 13,
   "id": "8a4f31a2-d215-4049-8065-62ed2a1cb84e",
   "metadata": {},
   "outputs": [
    {
     "name": "stdout",
     "output_type": "stream",
     "text": [
      "Connection established!\n",
      "Service is listening...\n",
      "Transcript: the stale smell of old beer lingers it takes heat to bring out the odor a cold dip restores health invest a salt pickled tastes fine with ham tacos al pastor are my favorite a zest for food is the hot cross bun \n",
      "Connection closed!\n",
      "Connection closed!\n"
     ]
    }
   ],
   "source": [
    "from ibm_watson import SpeechToTextV1, websocket\n",
    "from ibm_watson.websocket import RecognizeCallback, AudioSource\n",
    "from ibm_cloud_sdk_core.authenticators import IAMAuthenticator\n",
    "import threading\n",
    "import os\n",
    "\n",
    "# Replace these with your IBM Watson credentials\n",
    "api_key = 'LAfx-vU4kgUkq_FJ6xrtCxnPvCGRJ06cO-a6xrb2G_na'\n",
    "service_url = 'https://api.au-syd.speech-to-text.watson.cloud.ibm.com/instances/ae05614c-dac9-4305-8524-bfb65918d485'\n",
    "\n",
    "# Set up the authenticator and service\n",
    "authenticator = IAMAuthenticator(api_key)\n",
    "speech_to_text = SpeechToTextV1(authenticator=authenticator)\n",
    "speech_to_text.set_service_url(service_url)\n",
    "\n",
    "# Custom RecognizeCallback to handle streaming results\n",
    "class MyRecognizeCallback(RecognizeCallback):\n",
    "    def __init__(self):  # Corrected __init__ method\n",
    "        super().__init__()\n",
    "        self.transcript = []  # Initialize the transcript list\n",
    "\n",
    "    def on_transcription(self, transcript):\n",
    "        for result in transcript:\n",
    "            print(\"Transcript:\", result['transcript'])\n",
    "            self.transcript.append(result['transcript'])\n",
    "\n",
    "    def on_connected(self):\n",
    "        print('Connection established!')\n",
    "\n",
    "    def on_error(self, error):\n",
    "        print(f\"Error received: {error}\")\n",
    "\n",
    "    def on_inactivity_timeout(self, error):\n",
    "        print(f\"Inactivity timeout: {error}\")\n",
    "\n",
    "    def on_listening(self):\n",
    "        print('Service is listening...')\n",
    "\n",
    "    def on_close(self):\n",
    "        print(\"Connection closed!\")\n",
    "\n",
    "# Function to stream audio and get transcription\n",
    "def transcribe_using_websocket(file_path):\n",
    "    my_callback = MyRecognizeCallback()\n",
    "    \n",
    "    # Open audio file in binary mode\n",
    "    with open(file_path, 'rb') as audio_file:\n",
    "        audio_source = AudioSource(audio_file)\n",
    "        \n",
    "        # Start the transcription in a new thread\n",
    "        recognize_thread = threading.Thread(target=speech_to_text.recognize_using_websocket,\n",
    "                                            args=(audio_source, \"audio/wav\", my_callback))\n",
    "        recognize_thread.start()\n",
    "        recognize_thread.join()  # Wait for the thread to complete\n",
    "\n",
    "# Example usage\n",
    "file_path = 'C:/Users/DELL/Jupyter notebook/audio/harvard.wav'  # Replace with your audio file path\n",
    "transcribe_using_websocket(file_path)\n"
   ]
  },
  {
   "cell_type": "code",
   "execution_count": null,
   "id": "4bf76811-6f7f-42dd-b7b5-201114e1551f",
   "metadata": {},
   "outputs": [],
   "source": []
  }
 ],
 "metadata": {
  "kernelspec": {
   "display_name": "Python 3 (ipykernel)",
   "language": "python",
   "name": "python3"
  },
  "language_info": {
   "codemirror_mode": {
    "name": "ipython",
    "version": 3
   },
   "file_extension": ".py",
   "mimetype": "text/x-python",
   "name": "python",
   "nbconvert_exporter": "python",
   "pygments_lexer": "ipython3",
   "version": "3.12.4"
  }
 },
 "nbformat": 4,
 "nbformat_minor": 5
}
