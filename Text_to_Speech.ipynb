{
 "cells": [
  {
   "cell_type": "code",
   "execution_count": 1,
   "id": "6675c409-a72d-49c6-b83e-9a8e84e0d772",
   "metadata": {},
   "outputs": [
    {
     "name": "stdout",
     "output_type": "stream",
     "text": [
      "Audio content saved to 'output_audio.mp3'\n"
     ]
    }
   ],
   "source": [
    "from ibm_watson import TextToSpeechV1\n",
    "from ibm_cloud_sdk_core.authenticators import IAMAuthenticator\n",
    "\n",
    "# Replace these with your IBM Watson Text-to-Speech service credentials\n",
    "api_key = 'your api key'\n",
    "service_url = 'your api url'\n",
    "\n",
    "# Set up the authenticator and service\n",
    "authenticator = IAMAuthenticator(api_key)\n",
    "text_to_speech = TextToSpeechV1(authenticator=authenticator)\n",
    "text_to_speech.set_service_url(service_url)\n",
    "\n",
    "def synthesize_text_to_speech(text, output_audio_file='output_audio.mp3'):\n",
    "    try:\n",
    "        # Convert the input text to speech\n",
    "        with open(output_audio_file, 'wb') as audio_file:\n",
    "            response = text_to_speech.synthesize(\n",
    "                text=text,\n",
    "                voice='en-US_AllisonV3Voice',  # You can choose different voices\n",
    "                accept='audio/mp3'  # Specify audio format\n",
    "            ).get_result()\n",
    "            audio_file.write(response.content)\n",
    "        print(f\"Audio content saved to '{output_audio_file}'\")\n",
    "\n",
    "    except Exception as e:\n",
    "        print(f\"Error during synthesis: {e}\")\n",
    "\n",
    "# Example usage\n",
    "text = \"Hello, this is a sample text converted to speech by IBM Watson Text-to-Speech service.\"\n",
    "synthesize_text_to_speech(text, 'output_audio.mp3')"
   ]
  }
 ],
 "metadata": {
  "kernelspec": {
   "display_name": "Python 3 (ipykernel)",
   "language": "python",
   "name": "python3"
  },
  "language_info": {
   "codemirror_mode": {
    "name": "ipython",
    "version": 3
   },
   "file_extension": ".py",
   "mimetype": "text/x-python",
   "name": "python",
   "nbconvert_exporter": "python",
   "pygments_lexer": "ipython3",
   "version": "3.12.4"
  }
 },
 "nbformat": 4,
 "nbformat_minor": 5
}
